{
 "cells": [
  {
   "cell_type": "code",
   "execution_count": 44,
   "metadata": {},
   "outputs": [],
   "source": [
    "import tensorflow as tf\n",
    "import numpy as np"
   ]
  },
  {
   "cell_type": "code",
   "execution_count": 59,
   "metadata": {
    "pycharm": {
     "name": "#%%\n"
    }
   },
   "outputs": [],
   "source": [
    "class NaiveDense:\n",
    "     def __init__(self, input_shape, output_shape, activation):\n",
    "         self.activation = activation\n",
    "\n",
    "         self.W = tf.Variable(tf.random.uniform((input_shape, output_shape)))\n",
    "         self.b = tf.Variable(tf.zeros((output_shape,)))\n",
    "\n",
    "     def __call__(self, x):\n",
    "         return self.activation(tf.matmul(x, self.W) + self.b)\n",
    "\n",
    "     @property\n",
    "     def weights(self):\n",
    "         return [self.W, self.b]"
   ]
  },
  {
   "cell_type": "code",
   "execution_count": 60,
   "metadata": {
    "pycharm": {
     "name": "#%%\n"
    }
   },
   "outputs": [],
   "source": [
    "class NaiveSequential:\n",
    "    def __init__(self, layers: [NaiveDense]):\n",
    "        self.layers = layers\n",
    "\n",
    "    def __call__(self, inputs):\n",
    "        x = inputs\n",
    "        for l in self.layers:\n",
    "            x = l(x)\n",
    "        return x\n",
    "\n",
    "    @property\n",
    "    def weights(self):\n",
    "        weights = []\n",
    "        for l in self.layers:\n",
    "            weights += l.weights\n",
    "        return weights"
   ]
  },
  {
   "cell_type": "code",
   "execution_count": 61,
   "metadata": {
    "pycharm": {
     "name": "#%%\n"
    }
   },
   "outputs": [],
   "source": [
    "model = NaiveSequential([\n",
    "    NaiveDense(input_shape=784, output_shape=512, activation=tf.nn.relu),\n",
    "    NaiveDense(input_shape=512, output_shape=10, activation=tf.nn.softmax),\n",
    "])\n",
    "\n",
    "assert len(model.weights) == 4"
   ]
  },
  {
   "cell_type": "code",
   "execution_count": 62,
   "metadata": {
    "pycharm": {
     "name": "#%%\n"
    }
   },
   "outputs": [],
   "source": [
    "class BatchGenerator:\n",
    "    def __init__(self, images, labels, batch_size=64):\n",
    "        self.index = 0\n",
    "        self.images = images\n",
    "        self.labels = labels\n",
    "        self.batch_size = batch_size\n",
    "\n",
    "    def next(self):\n",
    "        images = self.images[self.index: self.index + self.batch_size]\n",
    "        labels = self.labels[self.index: self.index + self.batch_size]\n",
    "        self.index += self.batch_size\n",
    "        return images, labels"
   ]
  },
  {
   "cell_type": "code",
   "execution_count": 63,
   "metadata": {
    "pycharm": {
     "name": "#%%\n"
    }
   },
   "outputs": [],
   "source": [
    "def update_weights(gradients, weights):\n",
    "    lr = 0.001\n",
    "    # or apply gradients from optimizer keras\n",
    "    optim = tf.keras.optimizers.SGD(learning_rate=0.001)\n",
    "    optim.apply_gradients(zip(gradients, weights))\n",
    "#     for g, w in zip(gradients, weights):\n",
    "#         w.assign_sub(g * lr)"
   ]
  },
  {
   "cell_type": "code",
   "execution_count": 64,
   "metadata": {
    "pycharm": {
     "name": "#%%\n"
    }
   },
   "outputs": [],
   "source": [
    "def one_training_step(c_model, images_batch, labels_batch):\n",
    "    with tf.GradientTape() as tape:\n",
    "        preds = model(images_batch)\n",
    "        per_sample_losses = tf.keras.losses.sparse_categorical_crossentropy(labels_batch\n",
    "                                                                            , preds)\n",
    "        average_loss = tf.reduce_mean(per_sample_losses)\n",
    "    gradients = tape.gradient(average_loss, c_model.weights)\n",
    "    update_weights(gradients, c_model.weights)\n",
    "    return average_loss"
   ]
  },
  {
   "cell_type": "code",
   "execution_count": 65,
   "metadata": {
    "pycharm": {
     "name": "#%%\n"
    }
   },
   "outputs": [],
   "source": [
    "def fit(c_model, images, labels, epochs, batch_size=64):\n",
    "    for epoch in range(epochs):\n",
    "        print(f'Epoch: {epoch}')\n",
    "        batch_generator = BatchGenerator(images, labels)\n",
    "        for batch in range(len(images) // batch_size):\n",
    "            images_batch , labels_batch = batch_generator.next()\n",
    "            loss = one_training_step(c_model,\n",
    "                                     images_batch, labels_batch,\n",
    "                                     )\n",
    "            if batch % 100 == 0:\n",
    "                print(f'loss at batch {batch}: {loss:.2f}')"
   ]
  },
  {
   "cell_type": "code",
   "execution_count": 66,
   "metadata": {
    "pycharm": {
     "name": "#%%\n"
    }
   },
   "outputs": [],
   "source": [
    "(train_images, train_labels), (test_images, test_labels) = tf.keras.datasets.mnist.load_data()\n",
    "\n",
    "train_images = train_images.reshape((60000, 28*28))\n",
    "test_images = test_images.reshape((10000, 28*28))\n",
    "\n",
    "train_images = train_images.astype('float32') / 255\n",
    "test_images = test_images.astype('float32') / 255"
   ]
  },
  {
   "cell_type": "code",
   "execution_count": 67,
   "metadata": {
    "pycharm": {
     "name": "#%%\n"
    }
   },
   "outputs": [
    {
     "name": "stdout",
     "output_type": "stream",
     "text": [
      "Epoch: 0\n",
      "loss at batch 0: 13.85\n",
      "loss at batch 100: 15.11\n",
      "loss at batch 200: 14.61\n",
      "loss at batch 300: 14.36\n",
      "loss at batch 400: 13.60\n",
      "loss at batch 500: 14.61\n",
      "loss at batch 600: 13.35\n",
      "loss at batch 700: 14.86\n",
      "loss at batch 800: 14.86\n",
      "loss at batch 900: 14.10\n",
      "Epoch: 1\n",
      "loss at batch 0: 14.10\n",
      "loss at batch 100: 13.85\n",
      "loss at batch 200: 14.10\n",
      "loss at batch 300: 15.36\n",
      "loss at batch 400: 15.11\n",
      "loss at batch 500: 14.10\n",
      "loss at batch 600: 13.35\n",
      "loss at batch 700: 14.86\n",
      "loss at batch 800: 14.86\n",
      "loss at batch 900: 14.10\n",
      "Epoch: 2\n",
      "loss at batch 0: 14.10\n",
      "loss at batch 100: 13.85\n",
      "loss at batch 200: 14.10\n",
      "loss at batch 300: 15.36\n",
      "loss at batch 400: 15.11\n",
      "loss at batch 500: 14.10\n",
      "loss at batch 600: 13.35\n",
      "loss at batch 700: 14.86\n",
      "loss at batch 800: 14.86\n",
      "loss at batch 900: 14.10\n",
      "Epoch: 3\n",
      "loss at batch 0: 14.10\n",
      "loss at batch 100: 13.85\n",
      "loss at batch 200: 14.10\n",
      "loss at batch 300: 15.36\n",
      "loss at batch 400: 15.11\n",
      "loss at batch 500: 14.10\n",
      "loss at batch 600: 13.35\n",
      "loss at batch 700: 14.86\n",
      "loss at batch 800: 14.86\n",
      "loss at batch 900: 14.10\n",
      "Epoch: 4\n",
      "loss at batch 0: 14.10\n",
      "loss at batch 100: 13.85\n",
      "loss at batch 200: 14.10\n",
      "loss at batch 300: 15.36\n",
      "loss at batch 400: 15.11\n",
      "loss at batch 500: 14.10\n",
      "loss at batch 600: 13.35\n",
      "loss at batch 700: 14.86\n",
      "loss at batch 800: 14.86\n",
      "loss at batch 900: 14.10\n",
      "Epoch: 5\n",
      "loss at batch 0: 14.10\n",
      "loss at batch 100: 13.85\n",
      "loss at batch 200: 14.10\n",
      "loss at batch 300: 15.36\n",
      "loss at batch 400: 15.11\n",
      "loss at batch 500: 14.10\n",
      "loss at batch 600: 13.35\n",
      "loss at batch 700: 14.86\n",
      "loss at batch 800: 14.86\n",
      "loss at batch 900: 14.10\n",
      "Epoch: 6\n",
      "loss at batch 0: 14.10\n",
      "loss at batch 100: 13.85\n",
      "loss at batch 200: 14.10\n",
      "loss at batch 300: 15.36\n",
      "loss at batch 400: 15.11\n",
      "loss at batch 500: 14.10\n",
      "loss at batch 600: 13.35\n",
      "loss at batch 700: 14.86\n",
      "loss at batch 800: 14.86\n",
      "loss at batch 900: 14.10\n",
      "Epoch: 7\n",
      "loss at batch 0: 14.10\n",
      "loss at batch 100: 13.85\n",
      "loss at batch 200: 14.10\n",
      "loss at batch 300: 15.36\n",
      "loss at batch 400: 15.11\n",
      "loss at batch 500: 14.10\n",
      "loss at batch 600: 13.35\n",
      "loss at batch 700: 14.86\n",
      "loss at batch 800: 14.86\n",
      "loss at batch 900: 14.10\n",
      "Epoch: 8\n",
      "loss at batch 0: 14.10\n",
      "loss at batch 100: 13.85\n",
      "loss at batch 200: 14.10\n",
      "loss at batch 300: 15.36\n",
      "loss at batch 400: 15.11\n",
      "loss at batch 500: 14.10\n",
      "loss at batch 600: 13.35\n",
      "loss at batch 700: 14.86\n",
      "loss at batch 800: 14.86\n",
      "loss at batch 900: 14.10\n",
      "Epoch: 9\n",
      "loss at batch 0: 14.10\n",
      "loss at batch 100: 13.85\n",
      "loss at batch 200: 14.10\n",
      "loss at batch 300: 15.36\n",
      "loss at batch 400: 15.11\n",
      "loss at batch 500: 14.10\n",
      "loss at batch 600: 13.35\n",
      "loss at batch 700: 14.86\n",
      "loss at batch 800: 14.86\n",
      "loss at batch 900: 14.10\n"
     ]
    }
   ],
   "source": [
    "fit(model, train_images, train_labels, epochs=10, batch_size=64)"
   ]
  },
  {
   "cell_type": "code",
   "execution_count": 70,
   "metadata": {},
   "outputs": [
    {
     "data": {
      "text/plain": [
       "'accuracy 0.1135'"
      ]
     },
     "execution_count": 70,
     "metadata": {},
     "output_type": "execute_result"
    }
   ],
   "source": [
    "preds = model(test_images)\n",
    "preds = preds.numpy()\n",
    "preds_labels = np.argmax(preds, axis=1)\n",
    "matches = preds_labels == test_labels\n",
    "f'accuracy {matches.mean():.4f}'"
   ]
  },
  {
   "cell_type": "code",
   "execution_count": null,
   "metadata": {},
   "outputs": [],
   "source": []
  }
 ],
 "metadata": {
  "kernelspec": {
   "display_name": "Python 3",
   "language": "python",
   "name": "python3"
  },
  "language_info": {
   "codemirror_mode": {
    "name": "ipython",
    "version": 3
   },
   "file_extension": ".py",
   "mimetype": "text/x-python",
   "name": "python",
   "nbconvert_exporter": "python",
   "pygments_lexer": "ipython3",
   "version": "3.8.5"
  }
 },
 "nbformat": 4,
 "nbformat_minor": 1
}